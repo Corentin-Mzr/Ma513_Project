{
 "cells": [
  {
   "cell_type": "markdown",
   "metadata": {},
   "source": [
    "# Ma513 Project\n",
    "\n",
    "Student: MAZURIE Corentin\n",
    "\n",
    "### Initialization\n",
    "\n",
    "We start by importing the necessary libraries"
   ]
  },
  {
   "cell_type": "code",
   "execution_count": 1,
   "metadata": {},
   "outputs": [],
   "source": [
    "import numpy as np\n",
    "from keras.optimizers import Adam\n",
    "from keras.models import load_model\n",
    "from data_related import load_data, save_data\n",
    "from model import cnn_model, my_cnn_model, svm_classifier, train\n",
    "from visualization import visualize_data, plot_confusion_matrix, plot_model_training, print_scores"
   ]
  },
  {
   "cell_type": "markdown",
   "metadata": {},
   "source": [
    "### Import data\n",
    "\n",
    "The data is stored in the Pickle file *dict_data.pkl*"
   ]
  },
  {
   "cell_type": "code",
   "execution_count": 2,
   "metadata": {},
   "outputs": [
    {
     "name": "stdout",
     "output_type": "stream",
     "text": [
      "Loading datasets/dict_data.pkl\n"
     ]
    }
   ],
   "source": [
    "# Import the data\n",
    "d = load_data('datasets/dict_data.pkl', load_pickle=True)\n",
    "x_train, x_test, y_train, y_test = d['x_train'], d['x_test'], d['y_train'], d['y_test']\n",
    "\n",
    "# Labels are stored as hot one vectors, we convert them into their true values\n",
    "y_train_true = np.argmax(y_train, axis=1)\n",
    "y_test_true = np.argmax(y_test, axis=1)\n",
    "\n",
    "# Get sets containing all the data\n",
    "x_all = d['x']\n",
    "y_all = d['y']\n",
    "y_all_true = np.argmax(y_all, axis=1)"
   ]
  },
  {
   "cell_type": "markdown",
   "metadata": {},
   "source": [
    "We also define the hyperparameters for the training."
   ]
  },
  {
   "cell_type": "code",
   "execution_count": 5,
   "metadata": {},
   "outputs": [],
   "source": [
    "# Hyperparameters are defined here\n",
    "nb_epochs = 100\n",
    "bs = 256\n",
    "val_split = 0.2\n",
    "learning_rate = 1e-3"
   ]
  },
  {
   "cell_type": "markdown",
   "metadata": {},
   "source": [
    "We can plot some images of the dataset to see what it looks like using *visualize_data*."
   ]
  },
  {
   "cell_type": "code",
   "execution_count": 6,
   "metadata": {},
   "outputs": [
    {
     "data": {
      "image/png": "[encoded data removed]",
      "text/plain": [
       "<Figure size 432x288 with 4 Axes>"
      ]
     },
     "metadata": {
      "needs_background": "light"
     },
     "output_type": "display_data"
    }
   ],
   "source": [
    "# Visualize the data\n",
    "visualize_data(d['x'], y_all_true, [0, 1000, 4000, 8000])"
   ]
  },
  {
   "cell_type": "markdown",
   "metadata": {},
   "source": [
    "### Solo SVM Model\n",
    "\n",
    "We try a simple SVM classifier to see how it performs. We use *svm_classifier*."
   ]
  },
  {
   "cell_type": "code",
   "execution_count": 7,
   "metadata": {},
   "outputs": [
    {
     "name": "stdout",
     "output_type": "stream",
     "text": [
      "Accuracy : 78.97%\n",
      "F1 score : 0.79\n",
      "Precision : 0.79\n",
      "Recall : 0.79\n"
     ]
    },
    {
     "data": {
      "image/png": "[encoded data removed]",
      "text/plain": [
       "<Figure size 432x288 with 2 Axes>"
      ]
     },
     "metadata": {
      "needs_background": "light"
     },
     "output_type": "display_data"
    }
   ],
   "source": [
    "# Build a simple classifier\n",
    "solo_svm = svm_classifier(x_train, y_train_true)\n",
    "\n",
    "# We make a prediction and print the performance\n",
    "solo_y_pred = solo_svm.predict(x_test)\n",
    "print_scores(y_test_true, solo_y_pred)\n",
    "\n",
    "# We plot the confusion matrix\n",
    "plot_confusion_matrix(y_test_true, solo_y_pred)"
   ]
  },
  {
   "cell_type": "markdown",
   "metadata": {},
   "source": [
    "### Paper's CNN-SVM Model \n",
    "\n",
    "We first load the CNN model described in the paper.\n",
    "\n",
    "We can either load it from the keras file *article_model.keras* (UNAVAILABLE FOR SIZE REASONS)\n",
    "or from the function *cnn_model* to train it."
   ]
  },
  {
   "cell_type": "code",
   "execution_count": 11,
   "metadata": {},
   "outputs": [
    {
     "name": "stdout",
     "output_type": "stream",
     "text": [
      "Epoch 1/100\n",
      "22/22 [==============================] - 4s 123ms/step - loss: 4.0308 - accuracy: 0.3500 - val_loss: 1.3386 - val_accuracy: 0.5953\n",
      "Epoch 2/100\n",
      "22/22 [==============================] - 2s 84ms/step - loss: 1.1246 - accuracy: 0.6529 - val_loss: 0.7693 - val_accuracy: 0.7523\n",
      "Epoch 3/100\n",
      "22/22 [==============================] - 2s 84ms/step - loss: 0.7788 - accuracy: 0.7492 - val_loss: 0.6196 - val_accuracy: 0.7844\n",
      "Epoch 4/100\n",
      "22/22 [==============================] - 2s 85ms/step - loss: 0.6357 - accuracy: 0.7824 - val_loss: 0.5310 - val_accuracy: 0.8051\n",
      "Epoch 5/100\n",
      "22/22 [==============================] - 2s 83ms/step - loss: 0.5576 - accuracy: 0.7996 - val_loss: 0.4920 - val_accuracy: 0.8130\n",
      "Epoch 6/100\n",
      "22/22 [==============================] - 2s 83ms/step - loss: 0.5045 - accuracy: 0.8067 - val_loss: 0.4553 - val_accuracy: 0.8201\n",
      "Epoch 7/100\n",
      "22/22 [==============================] - 2s 83ms/step - loss: 0.4521 - accuracy: 0.8222 - val_loss: 0.4234 - val_accuracy: 0.8237\n",
      "Epoch 8/100\n",
      "22/22 [==============================] - 2s 83ms/step - loss: 0.4054 - accuracy: 0.8399 - val_loss: 0.4057 - val_accuracy: 0.8365\n",
      "Epoch 9/100\n",
      "22/22 [==============================] - 2s 83ms/step - loss: 0.3677 - accuracy: 0.8579 - val_loss: 0.4063 - val_accuracy: 0.8323\n",
      "Epoch 10/100\n",
      "22/22 [==============================] - 2s 84ms/step - loss: 0.3277 - accuracy: 0.8660 - val_loss: 0.4039 - val_accuracy: 0.8187\n",
      "Epoch 11/100\n",
      "22/22 [==============================] - 2s 83ms/step - loss: 0.2828 - accuracy: 0.8833 - val_loss: 0.3667 - val_accuracy: 0.8444\n",
      "Epoch 12/100\n",
      "22/22 [==============================] - 2s 84ms/step - loss: 0.2612 - accuracy: 0.8988 - val_loss: 0.3621 - val_accuracy: 0.8473\n",
      "Epoch 13/100\n",
      "22/22 [==============================] - 2s 84ms/step - loss: 0.2233 - accuracy: 0.9127 - val_loss: 0.3572 - val_accuracy: 0.8487\n",
      "Epoch 14/100\n",
      "22/22 [==============================] - 2s 84ms/step - loss: 0.2092 - accuracy: 0.9177 - val_loss: 0.3825 - val_accuracy: 0.8394\n",
      "Epoch 15/100\n",
      "22/22 [==============================] - 2s 84ms/step - loss: 0.1951 - accuracy: 0.9283 - val_loss: 0.4017 - val_accuracy: 0.8308\n",
      "Epoch 16/100\n",
      "22/22 [==============================] - 2s 84ms/step - loss: 0.1731 - accuracy: 0.9338 - val_loss: 0.3609 - val_accuracy: 0.8551\n",
      "Epoch 17/100\n",
      "22/22 [==============================] - 2s 84ms/step - loss: 0.1438 - accuracy: 0.9484 - val_loss: 0.3612 - val_accuracy: 0.8608\n",
      "Epoch 18/100\n",
      "22/22 [==============================] - 2s 85ms/step - loss: 0.1299 - accuracy: 0.9511 - val_loss: 0.3762 - val_accuracy: 0.8558\n",
      "Epoch 19/100\n",
      "22/22 [==============================] - 2s 85ms/step - loss: 0.1047 - accuracy: 0.9629 - val_loss: 0.3805 - val_accuracy: 0.8608\n",
      "Epoch 20/100\n",
      "22/22 [==============================] - 2s 84ms/step - loss: 0.0885 - accuracy: 0.9698 - val_loss: 0.4019 - val_accuracy: 0.8601\n",
      "Epoch 21/100\n",
      "22/22 [==============================] - 2s 85ms/step - loss: 0.0828 - accuracy: 0.9716 - val_loss: 0.3740 - val_accuracy: 0.8572\n",
      "Epoch 22/100\n",
      "22/22 [==============================] - 2s 85ms/step - loss: 0.0796 - accuracy: 0.9734 - val_loss: 0.4279 - val_accuracy: 0.8458\n",
      "Epoch 23/100\n",
      "22/22 [==============================] - 2s 85ms/step - loss: 0.0701 - accuracy: 0.9779 - val_loss: 0.4208 - val_accuracy: 0.8622\n",
      "Epoch 24/100\n",
      "22/22 [==============================] - 2s 85ms/step - loss: 0.0578 - accuracy: 0.9814 - val_loss: 0.4395 - val_accuracy: 0.8565\n",
      "Epoch 25/100\n",
      "22/22 [==============================] - 2s 85ms/step - loss: 0.0535 - accuracy: 0.9829 - val_loss: 0.4627 - val_accuracy: 0.8572\n",
      "Epoch 26/100\n",
      "22/22 [==============================] - 2s 85ms/step - loss: 0.0502 - accuracy: 0.9848 - val_loss: 0.4291 - val_accuracy: 0.8587\n",
      "Epoch 27/100\n",
      "22/22 [==============================] - 2s 86ms/step - loss: 0.0479 - accuracy: 0.9850 - val_loss: 0.4602 - val_accuracy: 0.8530\n",
      "Epoch 28/100\n",
      "22/22 [==============================] - 2s 86ms/step - loss: 0.0336 - accuracy: 0.9921 - val_loss: 0.4716 - val_accuracy: 0.8544\n",
      "Epoch 29/100\n",
      "22/22 [==============================] - 2s 86ms/step - loss: 0.0289 - accuracy: 0.9916 - val_loss: 0.4784 - val_accuracy: 0.8601\n",
      "Epoch 30/100\n",
      "22/22 [==============================] - 2s 86ms/step - loss: 0.0279 - accuracy: 0.9907 - val_loss: 0.4615 - val_accuracy: 0.8587\n",
      "Epoch 31/100\n",
      "22/22 [==============================] - 2s 86ms/step - loss: 0.0232 - accuracy: 0.9936 - val_loss: 0.4868 - val_accuracy: 0.8544\n",
      "Epoch 32/100\n",
      "22/22 [==============================] - 2s 86ms/step - loss: 0.0207 - accuracy: 0.9950 - val_loss: 0.4748 - val_accuracy: 0.8522\n",
      "Epoch 33/100\n",
      "22/22 [==============================] - 2s 86ms/step - loss: 0.0169 - accuracy: 0.9963 - val_loss: 0.5325 - val_accuracy: 0.8580\n",
      "Epoch 34/100\n",
      "22/22 [==============================] - 2s 86ms/step - loss: 0.0229 - accuracy: 0.9939 - val_loss: 0.5148 - val_accuracy: 0.8544\n",
      "Epoch 35/100\n",
      "22/22 [==============================] - 2s 86ms/step - loss: 0.0172 - accuracy: 0.9948 - val_loss: 0.5208 - val_accuracy: 0.8658\n",
      "Epoch 36/100\n",
      "22/22 [==============================] - 2s 86ms/step - loss: 0.0199 - accuracy: 0.9948 - val_loss: 0.5228 - val_accuracy: 0.8572\n",
      "Epoch 37/100\n",
      "22/22 [==============================] - 2s 86ms/step - loss: 0.0130 - accuracy: 0.9971 - val_loss: 0.4801 - val_accuracy: 0.8608\n",
      "Epoch 38/100\n",
      "22/22 [==============================] - 2s 90ms/step - loss: 0.0154 - accuracy: 0.9968 - val_loss: 0.5165 - val_accuracy: 0.8565\n",
      "Epoch 39/100\n",
      "22/22 [==============================] - 2s 89ms/step - loss: 0.0124 - accuracy: 0.9968 - val_loss: 0.5333 - val_accuracy: 0.8601\n",
      "Epoch 40/100\n",
      "22/22 [==============================] - 2s 88ms/step - loss: 0.0120 - accuracy: 0.9964 - val_loss: 0.5384 - val_accuracy: 0.8565\n",
      "Epoch 41/100\n",
      "22/22 [==============================] - 2s 88ms/step - loss: 0.0112 - accuracy: 0.9975 - val_loss: 0.5535 - val_accuracy: 0.8644\n",
      "Epoch 42/100\n",
      "22/22 [==============================] - 2s 88ms/step - loss: 0.0111 - accuracy: 0.9975 - val_loss: 0.5821 - val_accuracy: 0.8551\n",
      "Epoch 43/100\n",
      "22/22 [==============================] - 2s 88ms/step - loss: 0.0115 - accuracy: 0.9975 - val_loss: 0.5727 - val_accuracy: 0.8615\n",
      "Epoch 44/100\n",
      "22/22 [==============================] - 2s 88ms/step - loss: 0.0155 - accuracy: 0.9964 - val_loss: 0.5239 - val_accuracy: 0.8565\n",
      "Epoch 45/100\n",
      "22/22 [==============================] - 2s 88ms/step - loss: 0.0149 - accuracy: 0.9963 - val_loss: 0.6087 - val_accuracy: 0.8537\n",
      "Epoch 46/100\n",
      "22/22 [==============================] - 2s 94ms/step - loss: 0.0112 - accuracy: 0.9975 - val_loss: 0.6023 - val_accuracy: 0.8580\n",
      "Epoch 47/100\n",
      "22/22 [==============================] - 2s 93ms/step - loss: 0.0104 - accuracy: 0.9977 - val_loss: 0.5595 - val_accuracy: 0.8630\n",
      "Epoch 48/100\n",
      "22/22 [==============================] - 2s 91ms/step - loss: 0.0117 - accuracy: 0.9970 - val_loss: 0.5895 - val_accuracy: 0.8630\n",
      "Epoch 49/100\n",
      "22/22 [==============================] - 2s 91ms/step - loss: 0.0112 - accuracy: 0.9973 - val_loss: 0.5878 - val_accuracy: 0.8537\n",
      "Epoch 50/100\n",
      "22/22 [==============================] - 2s 90ms/step - loss: 0.0113 - accuracy: 0.9970 - val_loss: 0.6802 - val_accuracy: 0.8451\n",
      "Epoch 51/100\n",
      "22/22 [==============================] - 2s 96ms/step - loss: 0.0106 - accuracy: 0.9982 - val_loss: 0.5458 - val_accuracy: 0.8580\n",
      "Epoch 52/100\n",
      "22/22 [==============================] - 2s 90ms/step - loss: 0.0102 - accuracy: 0.9975 - val_loss: 0.5093 - val_accuracy: 0.8651\n",
      "Epoch 53/100\n",
      "22/22 [==============================] - 2s 90ms/step - loss: 0.0082 - accuracy: 0.9979 - val_loss: 0.5868 - val_accuracy: 0.8615\n",
      "Epoch 54/100\n",
      "22/22 [==============================] - 2s 96ms/step - loss: 0.0092 - accuracy: 0.9980 - val_loss: 0.6428 - val_accuracy: 0.8587\n",
      "Epoch 55/100\n",
      "22/22 [==============================] - 2s 95ms/step - loss: 0.0095 - accuracy: 0.9975 - val_loss: 0.6262 - val_accuracy: 0.8544\n",
      "Epoch 56/100\n",
      "22/22 [==============================] - 2s 94ms/step - loss: 0.0066 - accuracy: 0.9991 - val_loss: 0.6263 - val_accuracy: 0.8608\n",
      "Epoch 57/100\n",
      "22/22 [==============================] - 2s 94ms/step - loss: 0.0078 - accuracy: 0.9977 - val_loss: 0.6084 - val_accuracy: 0.8565\n",
      "Epoch 58/100\n",
      "22/22 [==============================] - 2s 94ms/step - loss: 0.0071 - accuracy: 0.9982 - val_loss: 0.6159 - val_accuracy: 0.8587\n",
      "Epoch 59/100\n",
      "22/22 [==============================] - 2s 94ms/step - loss: 0.0061 - accuracy: 0.9984 - val_loss: 0.6799 - val_accuracy: 0.8622\n",
      "Epoch 60/100\n",
      "22/22 [==============================] - 2s 94ms/step - loss: 0.0062 - accuracy: 0.9986 - val_loss: 0.5922 - val_accuracy: 0.8622\n",
      "Epoch 61/100\n",
      "22/22 [==============================] - 2s 94ms/step - loss: 0.0071 - accuracy: 0.9982 - val_loss: 0.6102 - val_accuracy: 0.8687\n",
      "Epoch 62/100\n",
      "22/22 [==============================] - 2s 100ms/step - loss: 0.0098 - accuracy: 0.9964 - val_loss: 0.6704 - val_accuracy: 0.8530\n",
      "Epoch 63/100\n",
      "22/22 [==============================] - 2s 96ms/step - loss: 0.0076 - accuracy: 0.9988 - val_loss: 0.6580 - val_accuracy: 0.8608\n",
      "Epoch 64/100\n",
      "22/22 [==============================] - 2s 96ms/step - loss: 0.0051 - accuracy: 0.9986 - val_loss: 0.6127 - val_accuracy: 0.8601\n",
      "Epoch 65/100\n",
      "22/22 [==============================] - 2s 96ms/step - loss: 0.0057 - accuracy: 0.9986 - val_loss: 0.6843 - val_accuracy: 0.8594\n",
      "Epoch 66/100\n",
      "22/22 [==============================] - 2s 96ms/step - loss: 0.0060 - accuracy: 0.9980 - val_loss: 0.5826 - val_accuracy: 0.8680\n",
      "Epoch 67/100\n",
      "22/22 [==============================] - 2s 96ms/step - loss: 0.0049 - accuracy: 0.9989 - val_loss: 0.6861 - val_accuracy: 0.8608\n",
      "Epoch 68/100\n",
      "22/22 [==============================] - 2s 97ms/step - loss: 0.0056 - accuracy: 0.9989 - val_loss: 0.6897 - val_accuracy: 0.8644\n",
      "Epoch 69/100\n",
      "22/22 [==============================] - 2s 96ms/step - loss: 0.0064 - accuracy: 0.9982 - val_loss: 0.6430 - val_accuracy: 0.8622\n",
      "Epoch 70/100\n",
      "22/22 [==============================] - 2s 98ms/step - loss: 0.0088 - accuracy: 0.9977 - val_loss: 0.6837 - val_accuracy: 0.8544\n",
      "Epoch 71/100\n",
      "22/22 [==============================] - 2s 98ms/step - loss: 0.0048 - accuracy: 0.9989 - val_loss: 0.6103 - val_accuracy: 0.8537\n",
      "Epoch 72/100\n",
      "22/22 [==============================] - 2s 98ms/step - loss: 0.0061 - accuracy: 0.9982 - val_loss: 0.6516 - val_accuracy: 0.8594\n",
      "Epoch 73/100\n",
      "22/22 [==============================] - 2s 98ms/step - loss: 0.0048 - accuracy: 0.9993 - val_loss: 0.6639 - val_accuracy: 0.8580\n",
      "Epoch 74/100\n",
      "22/22 [==============================] - 2s 99ms/step - loss: 0.0061 - accuracy: 0.9984 - val_loss: 0.7199 - val_accuracy: 0.8515\n",
      "Epoch 75/100\n",
      "22/22 [==============================] - 2s 99ms/step - loss: 0.0084 - accuracy: 0.9980 - val_loss: 0.6597 - val_accuracy: 0.8601\n",
      "Epoch 76/100\n",
      "22/22 [==============================] - 2s 98ms/step - loss: 0.0092 - accuracy: 0.9963 - val_loss: 0.6857 - val_accuracy: 0.8572\n",
      "Epoch 77/100\n",
      "22/22 [==============================] - 2s 101ms/step - loss: 0.0114 - accuracy: 0.9961 - val_loss: 0.7442 - val_accuracy: 0.8458\n",
      "Epoch 78/100\n",
      "22/22 [==============================] - 2s 104ms/step - loss: 0.0107 - accuracy: 0.9977 - val_loss: 0.6992 - val_accuracy: 0.8551\n",
      "Epoch 79/100\n",
      "22/22 [==============================] - 2s 102ms/step - loss: 0.0078 - accuracy: 0.9977 - val_loss: 0.6980 - val_accuracy: 0.8594\n",
      "Epoch 80/100\n",
      "22/22 [==============================] - 2s 102ms/step - loss: 0.0078 - accuracy: 0.9984 - val_loss: 0.7757 - val_accuracy: 0.8530\n",
      "Epoch 81/100\n",
      "22/22 [==============================] - 2s 103ms/step - loss: 0.0097 - accuracy: 0.9984 - val_loss: 0.7963 - val_accuracy: 0.8544\n",
      "Epoch 82/100\n",
      "22/22 [==============================] - 2s 103ms/step - loss: 0.0088 - accuracy: 0.9973 - val_loss: 0.6908 - val_accuracy: 0.8608\n",
      "Epoch 83/100\n",
      "22/22 [==============================] - 2s 102ms/step - loss: 0.0088 - accuracy: 0.9979 - val_loss: 0.6348 - val_accuracy: 0.8558\n",
      "Epoch 84/100\n",
      "22/22 [==============================] - 2s 102ms/step - loss: 0.0092 - accuracy: 0.9977 - val_loss: 0.7537 - val_accuracy: 0.8544\n",
      "Epoch 85/100\n",
      "22/22 [==============================] - 2s 102ms/step - loss: 0.0105 - accuracy: 0.9966 - val_loss: 0.6650 - val_accuracy: 0.8608\n",
      "Epoch 86/100\n",
      "22/22 [==============================] - 2s 103ms/step - loss: 0.0077 - accuracy: 0.9986 - val_loss: 0.7611 - val_accuracy: 0.8537\n",
      "Epoch 87/100\n",
      "22/22 [==============================] - 2s 103ms/step - loss: 0.0077 - accuracy: 0.9980 - val_loss: 0.6306 - val_accuracy: 0.8615\n",
      "Epoch 88/100\n",
      "22/22 [==============================] - 2s 102ms/step - loss: 0.0057 - accuracy: 0.9984 - val_loss: 0.7689 - val_accuracy: 0.8565\n",
      "Epoch 89/100\n",
      "22/22 [==============================] - 2s 102ms/step - loss: 0.0039 - accuracy: 0.9993 - val_loss: 0.7324 - val_accuracy: 0.8558\n",
      "Epoch 90/100\n",
      "22/22 [==============================] - 2s 102ms/step - loss: 0.0047 - accuracy: 0.9988 - val_loss: 0.7052 - val_accuracy: 0.8594\n",
      "Epoch 91/100\n",
      "22/22 [==============================] - 2s 102ms/step - loss: 0.0058 - accuracy: 0.9979 - val_loss: 0.7536 - val_accuracy: 0.8537\n",
      "Epoch 92/100\n",
      "22/22 [==============================] - 2s 102ms/step - loss: 0.0056 - accuracy: 0.9982 - val_loss: 0.7218 - val_accuracy: 0.8530\n",
      "Epoch 93/100\n",
      "22/22 [==============================] - 2s 102ms/step - loss: 0.0047 - accuracy: 0.9982 - val_loss: 0.7165 - val_accuracy: 0.8630\n",
      "Epoch 94/100\n",
      "22/22 [==============================] - 2s 102ms/step - loss: 0.0064 - accuracy: 0.9980 - val_loss: 0.8043 - val_accuracy: 0.8451\n",
      "Epoch 95/100\n",
      "22/22 [==============================] - 2s 101ms/step - loss: 0.0073 - accuracy: 0.9975 - val_loss: 0.6466 - val_accuracy: 0.8622\n",
      "Epoch 96/100\n",
      "22/22 [==============================] - 2s 106ms/step - loss: 0.0051 - accuracy: 0.9984 - val_loss: 0.7518 - val_accuracy: 0.8608\n",
      "Epoch 97/100\n",
      "22/22 [==============================] - 2s 102ms/step - loss: 0.0055 - accuracy: 0.9988 - val_loss: 0.8882 - val_accuracy: 0.8444\n",
      "Epoch 98/100\n",
      "22/22 [==============================] - 2s 103ms/step - loss: 0.0074 - accuracy: 0.9968 - val_loss: 0.7401 - val_accuracy: 0.8622\n",
      "Epoch 99/100\n",
      "22/22 [==============================] - 2s 104ms/step - loss: 0.0071 - accuracy: 0.9977 - val_loss: 0.7535 - val_accuracy: 0.8594\n",
      "Epoch 100/100\n",
      "22/22 [==============================] - 2s 103ms/step - loss: 0.0066 - accuracy: 0.9973 - val_loss: 0.7626 - val_accuracy: 0.8522\n",
      "Data saved to models/article_model_history.pkl\n"
     ]
    }
   ],
   "source": [
    "# True if you want to train the model\n",
    "to_train = True\n",
    "\n",
    "article_model_path = \"models/article_model.keras\"\n",
    "article_model_hist_path = \"models/article_model_history.pkl\"\n",
    "\n",
    "# Load the CNN Model of the article and train it\n",
    "if to_train:\n",
    "    article_model, article_hist = train(model=cnn_model(), \n",
    "                                        x_train=x_train, \n",
    "                                        y_train=y_train, \n",
    "                                        epochs=nb_epochs, \n",
    "                                        batch_size=bs, \n",
    "                                        validation_split=val_split, \n",
    "                                        learning_rate=learning_rate, \n",
    "                                        model_save_file=article_model_path,\n",
    "                                        history_save_file=article_model_hist_path)\n",
    "# Load the CNN model from file\n",
    "else:\n",
    "    article_model = load_model(article_model_path)\n",
    "    article_hist = load_data(article_model_hist_path, load_pickle=True)"
   ]
  },
  {
   "cell_type": "markdown",
   "metadata": {},
   "source": [
    "We can plot the loss and accuracy per epoch using *plot_model_training*."
   ]
  },
  {
   "cell_type": "code",
   "execution_count": 12,
   "metadata": {},
   "outputs": [
    {
     "data": {
      "image/png": "[encoded data removed]",
      "text/plain": [
       "<Figure size 432x288 with 2 Axes>"
      ]
     },
     "metadata": {
      "needs_background": "light"
     },
     "output_type": "display_data"
    }
   ],
   "source": [
    "# Plot loss and accuracy\n",
    "plot_model_training(article_hist, nb_epochs)"
   ]
  },
  {
   "cell_type": "markdown",
   "metadata": {},
   "source": [
    "We then test the performance of the CNN model using *print_scores*.\n",
    "\n",
    "The scores printed are accuracy, F1 score, recall and precision."
   ]
  },
  {
   "cell_type": "code",
   "execution_count": 13,
   "metadata": {},
   "outputs": [
    {
     "name": "stdout",
     "output_type": "stream",
     "text": [
      "73/73 [==============================] - 1s 8ms/step\n",
      "Accuracy : 86.47%\n",
      "F1 score : 0.86\n",
      "Precision : 0.87\n",
      "Recall : 0.86\n"
     ]
    }
   ],
   "source": [
    "# Make a prediction and print scores\n",
    "cnn_y_pred = np.argmax(article_model.predict(x_test), axis=1)\n",
    "print_scores(y_test_true, cnn_y_pred)"
   ]
  },
  {
   "cell_type": "markdown",
   "metadata": {},
   "source": [
    "We plot the confusion matrix to see where the model makes mistakes. We use *plot_confusion_matrix*."
   ]
  },
  {
   "cell_type": "code",
   "execution_count": 14,
   "metadata": {},
   "outputs": [
    {
     "name": "stdout",
     "output_type": "stream",
     "text": [
      "73/73 [==============================] - 1s 7ms/step\n"
     ]
    },
    {
     "data": {
      "image/png": "[encoded data removed]",
      "text/plain": [
       "<Figure size 432x288 with 2 Axes>"
      ]
     },
     "metadata": {
      "needs_background": "light"
     },
     "output_type": "display_data"
    }
   ],
   "source": [
    "# Plot confusion matrix\n",
    "cnn_y_pred = np.argmax(article_model.predict(x_test), axis=1)\n",
    "plot_confusion_matrix(y_test_true, cnn_y_pred)"
   ]
  },
  {
   "cell_type": "markdown",
   "metadata": {},
   "source": [
    "Now we add the L2-SVM classifier using *svm_classifier*."
   ]
  },
  {
   "cell_type": "code",
   "execution_count": 15,
   "metadata": {},
   "outputs": [
    {
     "name": "stdout",
     "output_type": "stream",
     "text": [
      "219/219 [==============================] - 1s 6ms/step\n"
     ]
    },
    {
     "name": "stderr",
     "output_type": "stream",
     "text": [
      "c:\\Users\\deads\\anaconda3\\envs\\tensorflowgpu\\lib\\site-packages\\sklearn\\svm\\_base.py:1250: ConvergenceWarning: Liblinear failed to converge, increase the number of iterations.\n",
      "  warnings.warn(\n"
     ]
    }
   ],
   "source": [
    "# Build the CNN-SVM model, we use the true labels and not the hot one vectors\n",
    "article_cnn_svm = svm_classifier(x_train, y_train_true, article_model)"
   ]
  },
  {
   "cell_type": "code",
   "execution_count": 16,
   "metadata": {},
   "outputs": [
    {
     "name": "stdout",
     "output_type": "stream",
     "text": [
      "73/73 [==============================] - 1s 8ms/step\n",
      "Accuracy : 86.81%\n",
      "F1 score : 0.87\n",
      "Precision : 0.87\n",
      "Recall : 0.87\n"
     ]
    },
    {
     "data": {
      "image/png": "[encoded data removed]",
      "text/plain": [
       "<Figure size 432x288 with 2 Axes>"
      ]
     },
     "metadata": {
      "needs_background": "light"
     },
     "output_type": "display_data"
    }
   ],
   "source": [
    "# Make a prediction and print score\n",
    "x_features = article_model.predict(x_test)\n",
    "article_cnn_svm_pred = article_cnn_svm.predict(x_features)\n",
    "print_scores(y_test_true, article_cnn_svm_pred)\n",
    "\n",
    "# Plot confusion matrix\n",
    "plot_confusion_matrix(y_test_true, article_cnn_svm_pred)"
   ]
  },
  {
   "cell_type": "markdown",
   "metadata": {},
   "source": [
    "### Our CNN-SVM Model\n",
    "\n",
    "We first start by importing the CNN model. We can either load it from file or create and train it using *my_cnn_model*."
   ]
  },
  {
   "cell_type": "code",
   "execution_count": 19,
   "metadata": {},
   "outputs": [
    {
     "name": "stdout",
     "output_type": "stream",
     "text": [
      "Loading models/MAZURIE_Model_history.pkl\n"
     ]
    }
   ],
   "source": [
    "# True if you want to train the model\n",
    "to_train = False\n",
    "\n",
    "my_model_path = 'models/MAZURIE_Model.keras'\n",
    "my_model_hist_path = 'models/MAZURIE_Model_history.pkl'\n",
    "\n",
    "# Load the CNN Model and train it\n",
    "if to_train:\n",
    "    my_model, my_model_hist = train(model=my_cnn_model(), \n",
    "                                        x_train=x_train, \n",
    "                                        y_train=y_train, \n",
    "                                        epochs=4 * nb_epochs, \n",
    "                                        batch_size=bs, \n",
    "                                        validation_split=val_split, \n",
    "                                        learning_rate=learning_rate, \n",
    "                                        model_save_file=my_model_path,\n",
    "                                        history_save_file=my_model_hist_path)\n",
    "# Load the CNN Model from file\n",
    "else:\n",
    "    my_model = load_model(my_model_path)\n",
    "    my_model_hist = load_data(my_model_hist_path, load_pickle=True)"
   ]
  },
  {
   "cell_type": "code",
   "execution_count": 20,
   "metadata": {},
   "outputs": [
    {
     "data": {
      "image/png": "[encoded data removed]",
      "text/plain": [
       "<Figure size 432x288 with 2 Axes>"
      ]
     },
     "metadata": {
      "needs_background": "light"
     },
     "output_type": "display_data"
    }
   ],
   "source": [
    "# Plot loss and accuracy\n",
    "plot_model_training(my_model_hist, 4 * nb_epochs)"
   ]
  },
  {
   "cell_type": "markdown",
   "metadata": {},
   "source": [
    "We plot the score and confusion matrix."
   ]
  },
  {
   "cell_type": "code",
   "execution_count": 21,
   "metadata": {},
   "outputs": [
    {
     "name": "stdout",
     "output_type": "stream",
     "text": [
      "73/73 [==============================] - 1s 4ms/step\n",
      "Accuracy : 96.49%\n",
      "F1 score : 0.97\n",
      "Precision : 0.97\n",
      "Recall : 0.96\n"
     ]
    },
    {
     "data": {
      "image/png": "[encoded data removed]",
      "text/plain": [
       "<Figure size 432x288 with 2 Axes>"
      ]
     },
     "metadata": {
      "needs_background": "light"
     },
     "output_type": "display_data"
    }
   ],
   "source": [
    "# Make a prediction and print scores\n",
    "my_cnn_y_pred = np.argmax(my_model.predict(x_test), axis=1)\n",
    "print_scores(y_test_true, my_cnn_y_pred)\n",
    "\n",
    "# Plot confusion matrix\n",
    "plot_confusion_matrix(y_test_true, my_cnn_y_pred)"
   ]
  },
  {
   "cell_type": "code",
   "execution_count": 22,
   "metadata": {},
   "outputs": [
    {
     "name": "stdout",
     "output_type": "stream",
     "text": [
      "219/219 [==============================] - 1s 5ms/step\n"
     ]
    },
    {
     "name": "stderr",
     "output_type": "stream",
     "text": [
      "c:\\Users\\deads\\anaconda3\\envs\\tensorflowgpu\\lib\\site-packages\\sklearn\\svm\\_base.py:1250: ConvergenceWarning: Liblinear failed to converge, increase the number of iterations.\n",
      "  warnings.warn(\n"
     ]
    }
   ],
   "source": [
    "# Build the CNN-SVM model, we use the true labels and not the hot one vectors\n",
    "my_cnn_svm = svm_classifier(x_train, y_train_true, my_model)"
   ]
  },
  {
   "cell_type": "code",
   "execution_count": 23,
   "metadata": {},
   "outputs": [
    {
     "name": "stdout",
     "output_type": "stream",
     "text": [
      "73/73 [==============================] - 1s 11ms/step\n",
      "Accuracy : 96.53%\n",
      "F1 score : 0.97\n",
      "Precision : 0.97\n",
      "Recall : 0.97\n"
     ]
    },
    {
     "data": {
      "image/png": "[encoded data removed]",
      "text/plain": [
       "<Figure size 432x288 with 2 Axes>"
      ]
     },
     "metadata": {
      "needs_background": "light"
     },
     "output_type": "display_data"
    }
   ],
   "source": [
    "# Make a prediction and print score\n",
    "my_x_features = my_model.predict(x_test)\n",
    "my_cnn_svm_pred = my_cnn_svm.predict(my_x_features)\n",
    "print_scores(y_test_true, my_cnn_svm_pred)\n",
    "\n",
    "# Plot confusion matrix\n",
    "plot_confusion_matrix(y_test_true, my_cnn_svm_pred)"
   ]
  }
 ],
 "metadata": {
  "kernelspec": {
   "display_name": "tensorflowgpu",
   "language": "python",
   "name": "python3"
  },
  "language_info": {
   "codemirror_mode": {
    "name": "ipython",
    "version": 3
   },
   "file_extension": ".py",
   "mimetype": "text/x-python",
   "name": "python",
   "nbconvert_exporter": "python",
   "pygments_lexer": "ipython3",
   "version": "3.10.13"
  }
 },
 "nbformat": 4,
 "nbformat_minor": 2
}
